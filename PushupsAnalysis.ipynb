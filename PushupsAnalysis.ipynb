{
 "cells": [
  {
   "cell_type": "markdown",
   "metadata": {},
   "source": [
    "# Pushups Tracker"
   ]
  },
  {
   "cell_type": "code",
   "execution_count": 2,
   "metadata": {},
   "outputs": [],
   "source": [
    "# Description\n",
    "# Program to manage my pushup workouts\n",
    "\n",
    "# Features\n",
    "# - Reads an excel file containing pushups data\n",
    "# - Displays a chart of target vs actual pushups\n",
    "# - Displays a chart of daily max pushups\n",
    "# - Gives a recommendation for next workout"
   ]
  },
  {
   "cell_type": "code",
   "execution_count": 1,
   "metadata": {},
   "outputs": [],
   "source": [
    "# Imports\n",
    "\n",
    "import pandas as pd\n",
    "import warnings\n",
    "warnings.filterwarnings('ignore')\n",
    "\n",
    "import matplotlib.pyplot as plt\n",
    "%matplotlib inline"
   ]
  },
  {
   "cell_type": "code",
   "execution_count": 8,
   "metadata": {},
   "outputs": [],
   "source": [
    "# Read the raw data file and create a DataFrame\n",
    "\n",
    "pushups_raw = pd.read_excel(\"PushupsData.xlsx\")"
   ]
  },
  {
   "cell_type": "code",
   "execution_count": 22,
   "metadata": {},
   "outputs": [],
   "source": [
    "# Create a new DataFrame for derived daily target and actual values\n",
    "\n",
    "days = pd.Series([], name='Day')\n",
    "target_sums = pd.Series([], name='TargetSum')\n",
    "actual_sums = pd.Series([], name='ActualSum')\n",
    "daily_max = pd.Series([], name='DailyMax') # Note this isn't put into the pusups_derived DataFrame yet\n",
    "i = 0\n",
    "\n",
    "while i < pushups_raw.Day.max():\n",
    "    days[i] = i+1\n",
    "    target_sums[i] = pushups_raw.Target[(pushups_raw.Day == (i+1))].sum()\n",
    "    actual_sums[i] = pushups_raw.Actual[(pushups_raw.Day == (i+1))].sum()\n",
    "    daily_max[i] = pushups_raw.Actual[(pushups_raw.Day == (i+1))].max()\n",
    "    i = i + 1\n",
    "\n",
    "pushups_derived = pd.DataFrame({'Day': days, 'TargetSum': target_sums, 'ActualSum': actual_sums, 'DailyMax': daily_max})\n",
    "pushups_derived.set_index('Day', inplace=True)"
   ]
  },
  {
   "cell_type": "code",
   "execution_count": 24,
   "metadata": {},
   "outputs": [],
   "source": [
    "# Review the newly created data structure\n",
    "\n",
    "#pushups_derived.head(3)"
   ]
  },
  {
   "cell_type": "code",
   "execution_count": 54,
   "metadata": {},
   "outputs": [
    {
     "data": {
      "image/png": "[encoded data removed]",
      "text/plain": [
       "<Figure size 1008x504 with 2 Axes>"
      ]
     },
     "metadata": {
      "needs_background": "light"
     },
     "output_type": "display_data"
    }
   ],
   "source": [
    "# Visualize the data\n",
    "fig, axes = plt.subplots(figsize=(14,7), nrows=2, ncols=1)\n",
    "\n",
    "# Graph of Target and Actual Sums\n",
    "g1 = pushups_derived[['TargetSum', 'ActualSum']].plot(ax=axes[0], kind='bar', rot=0)\n",
    "g1.set_title('Pushup Totals Tracker')\n",
    "g1.set_xlabel('Workout Day')\n",
    "g1.set_ylabel('Number of Pushups')\n",
    "g1.grid(axis='y')\n",
    "\n",
    "# Graph of Daily Max Pushups\n",
    "g2 = pushups_derived[['DailyMax']].plot(ax=axes[1], kind='bar', rot=0)\n",
    "g2.set_title('Pushup Daily Max Tracker')\n",
    "g2.set_xlabel('Workout Day')\n",
    "g2.set_ylabel('Number of Pushups')\n",
    "g2.grid(axis='y')\n",
    "g2.legend(loc='upper left')\n",
    "\n",
    "plt.tight_layout() # Not sure but this might override the figsize argument of subplots above\n",
    "plt.show()\n",
    "\n",
    "# Export the chart to a file\n",
    "#plt.savefig(\"Pushups.png\") # save as png file"
   ]
  },
  {
   "cell_type": "code",
   "execution_count": 76,
   "metadata": {},
   "outputs": [
    {
     "name": "stdout",
     "output_type": "stream",
     "text": [
      "Last workout your performance was...\n",
      "- Initial Sets Total: 120 reps\n",
      "- Final Set Total:     42 reps\n",
      "- Grand Total:        162 reps\n",
      "\n",
      "Next workout try for...\n",
      "- Initial Sets Total: 129 reps\n",
      "- Final Set Total:     43 reps\n",
      "- Grand Total:        172 reps\n",
      "\n"
     ]
    }
   ],
   "source": [
    "# Analysis and Recommendations\n",
    "\n",
    "# Calculate initial sets total reps\n",
    "initial_sets = pushups_derived['ActualSum'].iloc[-1] - pushups_derived['DailyMax'].iloc[-1]\n",
    "\n",
    "# Recap last workout\n",
    "print(\"Last workout your performance was...\")\n",
    "print(\"- Initial Sets Total: \" + str(initial_sets) + \" reps\")\n",
    "print(\"- Final Set Total:     \" + str(pushups_derived['DailyMax'].iloc[-1]) + \" reps\")\n",
    "print(\"- Grand Total:        \" + str(pushups_derived['ActualSum'].iloc[-1]) + \" reps\\n\")\n",
    "\n",
    "# Give recommendation for next workout based on last workout performance\n",
    "print(\"Next workout try for...\")\n",
    "print(\"- Initial Sets Total: \" + str(initial_sets + 9) + \" reps\")\n",
    "print(\"- Final Set Total:     \" + str(pushups_derived['DailyMax'].iloc[-1] + 1) + \" reps\")\n",
    "print(\"- Grand Total:        \" + str(pushups_derived['ActualSum'].iloc[-1] + 10) + \" reps\\n\")"
   ]
  },
  {
   "cell_type": "code",
   "execution_count": null,
   "metadata": {},
   "outputs": [],
   "source": []
  }
 ],
 "metadata": {
  "kernelspec": {
   "display_name": "Python 3",
   "language": "python",
   "name": "python3"
  },
  "language_info": {
   "codemirror_mode": {
    "name": "ipython",
    "version": 3
   },
   "file_extension": ".py",
   "mimetype": "text/x-python",
   "name": "python",
   "nbconvert_exporter": "python",
   "pygments_lexer": "ipython3",
   "version": "3.7.1"
  }
 },
 "nbformat": 4,
 "nbformat_minor": 2
}
